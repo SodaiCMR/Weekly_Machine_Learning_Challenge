{
 "cells": [
  {
   "metadata": {},
   "cell_type": "markdown",
   "source": "# 1. Importing libraries",
   "id": "63d9a8dafc046d9b"
  },
  {
   "cell_type": "code",
   "id": "initial_id",
   "metadata": {
    "collapsed": true,
    "ExecuteTime": {
     "end_time": "2025-06-27T13:43:17.256115Z",
     "start_time": "2025-06-27T13:43:16.687968Z"
    }
   },
   "source": [
    "import tensorflow as tf\n",
    "import os\n",
    "import cv2\n",
    "import imghdr\n",
    "import numpy as np\n",
    "import matplotlib.pyplot as plt"
   ],
   "outputs": [],
   "execution_count": 17
  },
  {
   "metadata": {
    "ExecuteTime": {
     "end_time": "2025-06-27T13:09:00.309319Z",
     "start_time": "2025-06-27T13:09:00.294093Z"
    }
   },
   "cell_type": "code",
   "source": [
    "# Avoid OOM errors by setting GPU Memory Consumption Growth\n",
    "gpus = tf.config.experimental.list_physical_devices('GPU')\n",
    "for gpu in gpus:\n",
    "    tf.config.experimental.set_memory_growth(gpu, True)"
   ],
   "id": "953c40255dc6853",
   "outputs": [],
   "execution_count": 4
  },
  {
   "metadata": {},
   "cell_type": "markdown",
   "source": "# 2. Load data",
   "id": "f0d829a6ae90661f"
  },
  {
   "metadata": {
    "ExecuteTime": {
     "end_time": "2025-06-27T13:41:55.931819Z",
     "start_time": "2025-06-27T13:41:55.920578Z"
    }
   },
   "cell_type": "code",
   "source": "tf.data.Dataset",
   "id": "4cadf4771603d4d4",
   "outputs": [
    {
     "data": {
      "text/plain": [
       "tensorflow.python.data.ops.dataset_ops.DatasetV2"
      ]
     },
     "execution_count": 16,
     "metadata": {},
     "output_type": "execute_result"
    }
   ],
   "execution_count": 16
  },
  {
   "metadata": {
    "ExecuteTime": {
     "end_time": "2025-06-27T14:05:43.486489Z",
     "start_time": "2025-06-27T14:05:43.202814Z"
    }
   },
   "cell_type": "code",
   "source": "data = tf.keras.utils.image_dataset_from_directory('datasets')",
   "id": "2ea302770a411fc",
   "outputs": [
    {
     "name": "stdout",
     "output_type": "stream",
     "text": [
      "Found 103 files belonging to 7 classes.\n"
     ]
    }
   ],
   "execution_count": 18
  }
 ],
 "metadata": {
  "kernelspec": {
   "display_name": "Python 3",
   "language": "python",
   "name": "python3"
  },
  "language_info": {
   "codemirror_mode": {
    "name": "ipython",
    "version": 2
   },
   "file_extension": ".py",
   "mimetype": "text/x-python",
   "name": "python",
   "nbconvert_exporter": "python",
   "pygments_lexer": "ipython2",
   "version": "2.7.6"
  }
 },
 "nbformat": 4,
 "nbformat_minor": 5
}
